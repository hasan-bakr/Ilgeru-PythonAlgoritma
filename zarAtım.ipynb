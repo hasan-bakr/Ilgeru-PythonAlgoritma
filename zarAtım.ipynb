{
 "cells": [
  {
   "cell_type": "code",
   "execution_count": 14,
   "id": "782e0640-1d59-43bc-8e2a-cc4cded04f81",
   "metadata": {
    "tags": []
   },
   "outputs": [],
   "source": [
    "import random\n",
    "def to_dice():\n",
    "    x = random.randint(1, 6)\n",
    "    print(x)\n",
    "        "
   ]
  },
  {
   "cell_type": "code",
   "execution_count": 15,
   "id": "4a09c088-361e-4197-9b71-db41b13d37c3",
   "metadata": {
    "tags": []
   },
   "outputs": [
    {
     "name": "stdout",
     "output_type": "stream",
     "text": [
      "6\n"
     ]
    }
   ],
   "source": [
    "to_dice()"
   ]
  },
  {
   "cell_type": "code",
   "execution_count": 16,
   "id": "ce4dca02-3341-44f4-a8f4-130f96bb273f",
   "metadata": {
    "tags": []
   },
   "outputs": [
    {
     "name": "stdout",
     "output_type": "stream",
     "text": [
      "4\n"
     ]
    }
   ],
   "source": [
    "to_dice()"
   ]
  },
  {
   "cell_type": "code",
   "execution_count": null,
   "id": "7e23b3bf-2226-4930-9e4c-c099e0bda4e5",
   "metadata": {},
   "outputs": [],
   "source": []
  }
 ],
 "metadata": {
  "kernelspec": {
   "display_name": "Python 3 (ipykernel)",
   "language": "python",
   "name": "python3"
  },
  "language_info": {
   "codemirror_mode": {
    "name": "ipython",
    "version": 3
   },
   "file_extension": ".py",
   "mimetype": "text/x-python",
   "name": "python",
   "nbconvert_exporter": "python",
   "pygments_lexer": "ipython3",
   "version": "3.11.5"
  }
 },
 "nbformat": 4,
 "nbformat_minor": 5
}
