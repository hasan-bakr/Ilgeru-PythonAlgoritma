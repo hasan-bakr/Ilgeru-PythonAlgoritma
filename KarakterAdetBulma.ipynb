{
 "cells": [
  {
   "cell_type": "code",
   "execution_count": 32,
   "id": "e87856c3-f100-4311-a934-570198ef6627",
   "metadata": {
    "tags": []
   },
   "outputs": [
    {
     "name": "stdin",
     "output_type": "stream",
     "text": [
      " asdgadsg\n"
     ]
    },
    {
     "name": "stdout",
     "output_type": "stream",
     "text": [
      "a 2\n",
      "s 2\n",
      "d 2\n",
      "g 2\n"
     ]
    }
   ],
   "source": [
    "x = input()\n",
    "charTime = {}\n",
    "\n",
    "def char_time_calculator(x):\n",
    "    \n",
    "    for char_ in x:\n",
    "        adding = False\n",
    "    \n",
    "        for compare_ in charTime:\n",
    "            if char_ == compare_:\n",
    "                charTime[char_] = 1 + charTime[char_]\n",
    "                adding = True\n",
    "        \n",
    "        if adding == False:\n",
    "            charTime[char_] = 1    \n",
    "    \n",
    "    return charTime\n",
    "\n",
    "dictionary = char_time_calculator(x)\n",
    "\n",
    "for x in dictionary:\n",
    "    print(x, dictionary[x])"
   ]
  },
  {
   "cell_type": "code",
   "execution_count": null,
   "id": "e5e4bb44-3589-456b-b4fb-d9431abe0023",
   "metadata": {},
   "outputs": [],
   "source": []
  }
 ],
 "metadata": {
  "kernelspec": {
   "display_name": "Python 3 (ipykernel)",
   "language": "python",
   "name": "python3"
  },
  "language_info": {
   "codemirror_mode": {
    "name": "ipython",
    "version": 3
   },
   "file_extension": ".py",
   "mimetype": "text/x-python",
   "name": "python",
   "nbconvert_exporter": "python",
   "pygments_lexer": "ipython3",
   "version": "3.11.5"
  }
 },
 "nbformat": 4,
 "nbformat_minor": 5
}
