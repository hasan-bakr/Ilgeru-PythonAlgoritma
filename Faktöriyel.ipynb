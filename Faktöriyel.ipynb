{
 "cells": [
  {
   "cell_type": "code",
   "execution_count": 5,
   "id": "ed73c6d1-4390-470b-a249-82f80ae4b706",
   "metadata": {
    "tags": []
   },
   "outputs": [
    {
     "data": {
      "text/plain": [
       "120"
      ]
     },
     "execution_count": 5,
     "metadata": {},
     "output_type": "execute_result"
    }
   ],
   "source": [
    "def factorial(x):\n",
    "    total = 1\n",
    "    for i in range(2,x + 1, 1):\n",
    "        total = i*total\n",
    "    return total\n",
    "\n",
    "yuzyirmi = factorial(5)\n",
    "yuzyirmi"
   ]
  },
  {
   "cell_type": "code",
   "execution_count": null,
   "id": "9cfa61a2-1abd-4045-bf19-3ea5cdb5558e",
   "metadata": {},
   "outputs": [],
   "source": []
  }
 ],
 "metadata": {
  "kernelspec": {
   "display_name": "Python 3 (ipykernel)",
   "language": "python",
   "name": "python3"
  },
  "language_info": {
   "codemirror_mode": {
    "name": "ipython",
    "version": 3
   },
   "file_extension": ".py",
   "mimetype": "text/x-python",
   "name": "python",
   "nbconvert_exporter": "python",
   "pygments_lexer": "ipython3",
   "version": "3.11.5"
  }
 },
 "nbformat": 4,
 "nbformat_minor": 5
}
