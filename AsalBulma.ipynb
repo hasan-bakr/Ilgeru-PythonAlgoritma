{
 "cells": [
  {
   "cell_type": "code",
   "execution_count": 16,
   "id": "bf96bf2f-2a8a-45a5-86e2-97297f35574d",
   "metadata": {
    "tags": []
   },
   "outputs": [
    {
     "name": "stdin",
     "output_type": "stream",
     "text": [
      "is the number you gave a prime number 1235\n"
     ]
    },
    {
     "data": {
      "text/plain": [
       "False"
      ]
     },
     "execution_count": 16,
     "metadata": {},
     "output_type": "execute_result"
    }
   ],
   "source": [
    "def is_prime(x):\n",
    "    x = int(x)\n",
    "    if x == 1:\n",
    "        return False\n",
    "    elif x >= 2:\n",
    "        for b in range(2, int(x / 2) + 2):\n",
    "            if x % b == 0:\n",
    "                return False\n",
    "        return True\n",
    "    else:\n",
    "        return False\n",
    "\n",
    "x = input(\"is the number you gave a prime number\")\n",
    "is_prime(x)"
   ]
  },
  {
   "cell_type": "code",
   "execution_count": null,
   "id": "9bfdd619-9fc7-4a73-8c5a-df6815a4cecc",
   "metadata": {},
   "outputs": [],
   "source": []
  }
 ],
 "metadata": {
  "kernelspec": {
   "display_name": "Python 3 (ipykernel)",
   "language": "python",
   "name": "python3"
  },
  "language_info": {
   "codemirror_mode": {
    "name": "ipython",
    "version": 3
   },
   "file_extension": ".py",
   "mimetype": "text/x-python",
   "name": "python",
   "nbconvert_exporter": "python",
   "pygments_lexer": "ipython3",
   "version": "3.11.5"
  }
 },
 "nbformat": 4,
 "nbformat_minor": 5
}
