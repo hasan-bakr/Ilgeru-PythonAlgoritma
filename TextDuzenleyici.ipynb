{
 "cells": [
  {
   "cell_type": "code",
   "execution_count": 28,
   "id": "f8fd9d62-45bd-4c9b-aeee-9c8276c69cdc",
   "metadata": {
    "tags": []
   },
   "outputs": [
    {
     "name": "stdin",
     "output_type": "stream",
     "text": [
      "Bozuk cümleyi giriniz. merHAba ben    Hasan\n"
     ]
    },
    {
     "name": "stdout",
     "output_type": "stream",
     "text": [
      "Merhaba ben hasan.\n"
     ]
    }
   ],
   "source": [
    "def text_edit(x):\n",
    "    x = str(x)\n",
    "    new_text = \"\"\n",
    "    for word in x.split():\n",
    "        if word == x.split()[0]:\n",
    "            new_text += word.capitalize() + \" \"\n",
    "        else:\n",
    "            new_text += word.lower() + \" \"\n",
    "    \n",
    "    new_text = new_text.strip() + \".\"  \n",
    "    return new_text\n",
    "x = input(\"Bozuk cümleyi giriniz.\")\n",
    "print(text_edit(x))"
   ]
  },
  {
   "cell_type": "code",
   "execution_count": null,
   "id": "dc5de749-63f6-4331-a0ff-f01ff37968ec",
   "metadata": {},
   "outputs": [],
   "source": []
  },
  {
   "cell_type": "code",
   "execution_count": null,
   "id": "9f313218-5312-433c-8f45-6413a06dbc98",
   "metadata": {},
   "outputs": [],
   "source": []
  }
 ],
 "metadata": {
  "kernelspec": {
   "display_name": "Python 3 (ipykernel)",
   "language": "python",
   "name": "python3"
  },
  "language_info": {
   "codemirror_mode": {
    "name": "ipython",
    "version": 3
   },
   "file_extension": ".py",
   "mimetype": "text/x-python",
   "name": "python",
   "nbconvert_exporter": "python",
   "pygments_lexer": "ipython3",
   "version": "3.11.5"
  }
 },
 "nbformat": 4,
 "nbformat_minor": 5
}
