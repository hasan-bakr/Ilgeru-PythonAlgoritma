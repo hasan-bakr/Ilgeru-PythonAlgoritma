{
 "cells": [
  {
   "cell_type": "code",
   "execution_count": 6,
   "id": "aeea0709-c930-4123-846a-6d8988f42953",
   "metadata": {
    "tags": []
   },
   "outputs": [],
   "source": [
    "import random\n",
    "def tas_kagit_makas_oyna(x):\n",
    "    python_choose = random.randint(1,3)\n",
    "    if python_choose == 1:\n",
    "        if x == \"kagit\":\n",
    "            return \"Python is rock, You are winner\"\n",
    "        elif x == \"makas\":\n",
    "            return \"Python is rock, Python is winner\"\n",
    "        else:\n",
    "            return \"Python is rock, Draw\"\n",
    "    elif python_choose == 2:\n",
    "        if x == \"kagit\":\n",
    "            return \"Python is paper, Draw\"\n",
    "        elif x == \"makas\":\n",
    "            return \"Python is paper, You are winner\"\n",
    "        else:\n",
    "            return \"Python is paper, Python is winner\"\n",
    "    else:\n",
    "        if x == \"kagit\":\n",
    "            return \"Python is scissors, Python is winner\"\n",
    "        elif x == \"makas\":\n",
    "            return \"Python is scissors, Draw\"\n",
    "        else:\n",
    "            return \"Python is scissors, You are winner\"\n",
    "    "
   ]
  },
  {
   "cell_type": "code",
   "execution_count": 7,
   "id": "87ad1297-9ded-4d50-8fd8-79be5c4c7002",
   "metadata": {
    "tags": []
   },
   "outputs": [
    {
     "data": {
      "text/plain": [
       "'Python is scissors, Python is winner'"
      ]
     },
     "execution_count": 7,
     "metadata": {},
     "output_type": "execute_result"
    }
   ],
   "source": [
    "tas_kagit_makas_oyna(\"kagit\")"
   ]
  },
  {
   "cell_type": "code",
   "execution_count": null,
   "id": "fad5339e-cd59-4f17-aaaa-90e8477a422b",
   "metadata": {},
   "outputs": [],
   "source": []
  }
 ],
 "metadata": {
  "kernelspec": {
   "display_name": "Python 3 (ipykernel)",
   "language": "python",
   "name": "python3"
  },
  "language_info": {
   "codemirror_mode": {
    "name": "ipython",
    "version": 3
   },
   "file_extension": ".py",
   "mimetype": "text/x-python",
   "name": "python",
   "nbconvert_exporter": "python",
   "pygments_lexer": "ipython3",
   "version": "3.11.5"
  }
 },
 "nbformat": 4,
 "nbformat_minor": 5
}
