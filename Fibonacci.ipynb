{
 "cells": [
  {
   "cell_type": "code",
   "execution_count": 16,
   "id": "a1c5ef9c-11e1-44d6-b775-afbaf4ee3093",
   "metadata": {
    "tags": []
   },
   "outputs": [],
   "source": [
    "def fibonacci_tuple(x):\n",
    "    x1, x2 = 0, 1\n",
    "    for i in range(0, x):\n",
    "        if i == 1:\n",
    "            print(x1, end = \" \") \n",
    "            print(x2, end = \" \")\n",
    "        elif i > 1:\n",
    "            x1 = x1 + x2\n",
    "            x1, x2 = x2, x1\n",
    "            print(x2, end = \" \")"
   ]
  },
  {
   "cell_type": "code",
   "execution_count": 22,
   "id": "763755e1-749d-46ce-ba40-667e9aa3b053",
   "metadata": {
    "tags": []
   },
   "outputs": [
    {
     "name": "stdin",
     "output_type": "stream",
     "text": [
      "Give me number of step for fibonacci 15\n"
     ]
    },
    {
     "name": "stdout",
     "output_type": "stream",
     "text": [
      "0 1 1 2 3 5 8 13 21 34 55 89 144 233 377 "
     ]
    }
   ],
   "source": [
    "x = int(input(\"Give me a number of step for fibonacci\"))\n",
    "fibonacci_tuple(x)"
   ]
  },
  {
   "cell_type": "code",
   "execution_count": null,
   "id": "b1eff285-ace4-45d9-94f5-db4c09ebd124",
   "metadata": {},
   "outputs": [],
   "source": []
  }
 ],
 "metadata": {
  "kernelspec": {
   "display_name": "Python 3 (ipykernel)",
   "language": "python",
   "name": "python3"
  },
  "language_info": {
   "codemirror_mode": {
    "name": "ipython",
    "version": 3
   },
   "file_extension": ".py",
   "mimetype": "text/x-python",
   "name": "python",
   "nbconvert_exporter": "python",
   "pygments_lexer": "ipython3",
   "version": "3.11.5"
  }
 },
 "nbformat": 4,
 "nbformat_minor": 5
}
