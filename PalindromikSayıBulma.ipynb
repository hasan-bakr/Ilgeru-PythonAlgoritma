{
 "cells": [
  {
   "cell_type": "code",
   "execution_count": 15,
   "id": "d693dd19-f531-4134-9869-620011cfd8ba",
   "metadata": {
    "tags": []
   },
   "outputs": [
    {
     "name": "stdin",
     "output_type": "stream",
     "text": [
      "Is the number you gave a polyndromic number 135531\n"
     ]
    },
    {
     "data": {
      "text/plain": [
       "True"
      ]
     },
     "execution_count": 15,
     "metadata": {},
     "output_type": "execute_result"
    }
   ],
   "source": [
    "def is_polyndromic(x):\n",
    "    str_x = str(x)\n",
    "    \n",
    "    for i in range(0, int(len(str_x) / 2)):\n",
    "        if str_x[i] != str_x[len(str_x) - i - 1]:\n",
    "            return False\n",
    "        \n",
    "    return True\n",
    "\n",
    "x = input(\"Is the number you gave a polyndromic number\")\n",
    "\n",
    "is_polyndromic(x)"
   ]
  },
  {
   "cell_type": "code",
   "execution_count": null,
   "id": "c72d36ff-ff8a-4d43-986b-53323e04ebd1",
   "metadata": {},
   "outputs": [],
   "source": []
  }
 ],
 "metadata": {
  "kernelspec": {
   "display_name": "Python 3 (ipykernel)",
   "language": "python",
   "name": "python3"
  },
  "language_info": {
   "codemirror_mode": {
    "name": "ipython",
    "version": 3
   },
   "file_extension": ".py",
   "mimetype": "text/x-python",
   "name": "python",
   "nbconvert_exporter": "python",
   "pygments_lexer": "ipython3",
   "version": "3.11.5"
  }
 },
 "nbformat": 4,
 "nbformat_minor": 5
}
