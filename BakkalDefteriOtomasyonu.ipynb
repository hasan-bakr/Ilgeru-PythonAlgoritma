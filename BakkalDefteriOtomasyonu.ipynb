{
 "cells": [
  {
   "cell_type": "code",
   "execution_count": null,
   "id": "eaf8a0af-eecf-40ee-9c87-42f37a963056",
   "metadata": {
    "tags": []
   },
   "outputs": [
    {
     "name": "stdout",
     "output_type": "stream",
     "text": [
      "isim---tel---borc\n",
      "ahmet 5123 1234\n",
      "mahmut 135 35\n",
      "1. kayıt ekle \n",
      "2. borç sil \n",
      "3. borç ekle\n"
     ]
    }
   ],
   "source": [
    " class Defter:\n",
    "    def kayit_ekle(self, isim, tel, borc):\n",
    "        self.defter[isim] = [tel, borc]\n",
    "        \n",
    "    def __init__(self):\n",
    "        self.defter = {}\n",
    "        \n",
    "    def borc_sil(self, isim, miktar):\n",
    "        self.defter[isim][1] -= miktar\n",
    "        \n",
    "    def borc_ekle(self, isim, miktar):\n",
    "        self.defter[isim][1] += miktar\n",
    "\n",
    "    def kayitlari_goster(self):\n",
    "        print(\"isim---tel---borc\")\n",
    "        for isimler, degerler in self.defter.items():\n",
    "            print(isimler, degerler[0], degerler[1])\n",
    "        x = 0\n",
    "        \n",
    "        while x != \"4\":\n",
    "            print(\"1. kayıt ekle \\n2. borç sil \\n3. borç ekle\")\n",
    "            x = input(\"Seçenek Giriniz.\")\n",
    "            print(type(x))\n",
    "            if x == \"1\":\n",
    "                isim = input(\"isim giriniz\")\n",
    "                tel = input(\"tel giriniz\")\n",
    "                borc = int(input(\"borc giriniz\"))\n",
    "            \n",
    "                self.kayit_ekle(isim, tel, borc)\n",
    "    \n",
    "            elif x == \"2\":\n",
    "                isim = input(\"kimin borcu silinecek\")\n",
    "                borc = int(input(\"ne kadar silinecek\"))\n",
    "            \n",
    "                self.borc_sil(isim, borc)\n",
    "            \n",
    "            elif x == \"3\":\n",
    "                isim = input(\"kime borç eklenecek\")\n",
    "                borc = int(input(\"ne kadar eklenecek\"))\n",
    "            \n",
    "                self.borc_ekle(isim, borc)\n",
    "        \n",
    "            print(\"isim---tel---borc\")\n",
    "            for isimler, degerler in self.defter.items():\n",
    "                print(isimler, degerler[0], degerler[1])\n",
    "            \n",
    "bakkal_defteri = Defter()\n",
    "\n",
    "bakkal_defteri.kayit_ekle(\"ahmet\", 5123, 1234)\n",
    "bakkal_defteri.kayit_ekle(\"mahmut\", 135, 35)\n",
    "bakkal_defteri.kayitlari_goster()"
   ]
  },
  {
   "cell_type": "code",
   "execution_count": null,
   "id": "bbccc4a2-761e-471b-9f58-d57324c81d85",
   "metadata": {},
   "outputs": [],
   "source": [
    "#### "
   ]
  }
 ],
 "metadata": {
  "kernelspec": {
   "display_name": "Python 3 (ipykernel)",
   "language": "python",
   "name": "python3"
  },
  "language_info": {
   "codemirror_mode": {
    "name": "ipython",
    "version": 3
   },
   "file_extension": ".py",
   "mimetype": "text/x-python",
   "name": "python",
   "nbconvert_exporter": "python",
   "pygments_lexer": "ipython3",
   "version": "3.11.5"
  }
 },
 "nbformat": 4,
 "nbformat_minor": 5
}
